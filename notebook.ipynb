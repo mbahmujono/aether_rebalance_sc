{
 "cells": [
  {
   "cell_type": "code",
   "execution_count": 1,
   "metadata": {},
   "outputs": [],
   "source": [
    "from moccasin import setup_notebook\n",
    "\n",
    "setup_notebook()"
   ]
  },
  {
   "cell_type": "markdown",
   "metadata": {},
   "source": [
    "## Get active network for moccasin\n",
    "\n",
    "this is what we gonna do:\n",
    "1. Add deposit to our wallet\n",
    "2. Deposit the balance to aave\n",
    "3. withdraw the fund\n",
    "4. rebalance the portfolio\n",
    "\n",
    "Now, let's start with active network"
   ]
  },
  {
   "cell_type": "code",
   "execution_count": 2,
   "metadata": {},
   "outputs": [
    {
     "name": "stdout",
     "output_type": "stream",
     "text": [
      "Network(name='arbitrum-fork', url='https://arbitrum-mainnet.infura.io/v3/fc95abf6201d4f99bd29909d2aa63d68', chain_id=42161, is_fork=True, block_identifier='safe', is_zksync=False, default_account_name=None, unsafe_password_file=None, save_abi_path='abis', explorer_uri='https://api.arbiscan.io', explorer_api_key='WA36QTQE54UDXCXQR3KEEGGKNEJXKI6DII', explorer_type=None, named_contracts={'weth': NamedContract(contract_name='weth', force_deploy=None, abi='abis/weth.json', abi_from_explorer=None, deployer_script=None, address='0x82aF49447D8a07e3bd95BD0d56f35241523fBab1', deployer=None, recently_deployed_contract=None), 'usdc': NamedContract(contract_name='usdc', force_deploy=None, abi='abis/usdc.json', abi_from_explorer=None, deployer_script=None, address='0xFF970A61A04b1cA14834A43f5dE4533eBDDB5CC8', deployer=None, recently_deployed_contract=None), 'uniswap_swap_router': NamedContract(contract_name='uniswap_swap_router', force_deploy=None, abi='abis/uniswap_swap_router.json', abi_from_explorer=None, deployer_script=None, address='0x68b3465833fb72A70ecDF485E0e4C7bD8665Fc45', deployer=None, recently_deployed_contract=None), 'aavev3_pool_address_provider': NamedContract(contract_name='aavev3_pool_address_provider', force_deploy=None, abi='abis/aave3_pool_address_provider.json', abi_from_explorer=None, deployer_script=None, address='0xa97684ead0e402dC232d5A977953DF7ECBaB3CDb', deployer=None, recently_deployed_contract=None), 'pool': NamedContract(contract_name='pool', force_deploy=None, abi='abis/pool.json', abi_from_explorer=None, deployer_script=None, address=None, deployer=None, recently_deployed_contract=None), 'l2pool': NamedContract(contract_name='l2pool', force_deploy=None, abi='abis/l2pool.json', abi_from_explorer=None, deployer_script=None, address=None, deployer=None, recently_deployed_contract=None), 'aave_protocol_data_provider': NamedContract(contract_name='aave_protocol_data_provider', force_deploy=None, abi='abis/aave_protocol_data_provider.json', abi_from_explorer=None, deployer_script=None, address='0x14496b405D62c24F91f04Cda1c69Dc526D56fDE5', deployer=None, recently_deployed_contract=None), 'eth_usd_price_feed': NamedContract(contract_name='eth_usd_price_feed', force_deploy=None, abi='abis/eth_usd_price_feed.json', abi_from_explorer=None, deployer_script=None, address='0x639Fe6ab55C921f74e7fac1ee960C0B6293ba612', deployer=None, recently_deployed_contract=None), 'usdc_usd_price_feed': NamedContract(contract_name='usdc_usd_price_feed', force_deploy=None, abi='abis/usdc_usd_price_feed.json', abi_from_explorer=None, deployer_script=None, address='0x50834F3163758fcC1Df9973b6e91f0F0F0434aD3', deployer=None, recently_deployed_contract=None), 'master_minter': NamedContract(contract_name='master_minter', force_deploy=None, abi='abis/master_minter.json', abi_from_explorer=None, deployer_script=None, address=None, deployer=None, recently_deployed_contract=None), 'l2_pool': NamedContract(contract_name='l2_pool', force_deploy=None, abi='abis/l2pool.json', abi_from_explorer=None, deployer_script=None, address='0x794a61358D6845594F94dc1DB02A252b5b4814aD', deployer=None, recently_deployed_contract=None)}, prompt_live=False, save_to_db=False, live_or_staging=False, db_path=PosixPath('/workspaces/aether_rebalance_sc/.deployments.db'), extra_data={}, _network_env=<boa.environment.Env object at 0x7f5985d72f00>)\n",
      "<eth_usd_price_feed interface at 0x639Fe6ab55C921f74e7fac1ee960C0B6293ba612>\n"
     ]
    }
   ],
   "source": [
    "from moccasin.config import get_active_network\n",
    "\n",
    "active_network = get_active_network()\n",
    "print(active_network)\n",
    "eth_usd = active_network.manifest_named(\"eth_usd_price_feed\")\n",
    "print(eth_usd)"
   ]
  },
  {
   "cell_type": "markdown",
   "metadata": {},
   "source": [
    "Now after we connect to the network, we need to deposit some eth for the gas fees, we can use titanoboa set_balance on forked network\n",
    "\n",
    "# Deposit to wallet"
   ]
  },
  {
   "cell_type": "code",
   "execution_count": 3,
   "metadata": {},
   "outputs": [
    {
     "name": "stdout",
     "output_type": "stream",
     "text": [
      "Active network: arbitrum-fork\n"
     ]
    },
    {
     "name": "stdout",
     "output_type": "stream",
     "text": [
      "USDC contract address: 0xFF970A61A04b1cA14834A43f5dE4533eBDDB5CC8\n",
      "WETH contract address: 0x82aF49447D8a07e3bd95BD0d56f35241523fBab1\n",
      "Setting up local network with initial balances...\n",
      "Added 1000000000000000000000 wei to 0xd13f0Bd22AFF8176761AEFBfC052a7490bDe268E\n",
      "wallet address: 0xd13f0Bd22AFF8176761AEFBfC052a7490bDe268E\n",
      "Adding 10000000 USDC and 13500000000000000000 WETH to 0xd13f0Bd22AFF8176761AEFBfC052a7490bDe268E\n"
     ]
    },
    {
     "ename": "BoaError",
     "evalue": "\n========================================================================\n[E] [7493] usdc.sendValue(to = \"0x1eED63EfBA5f81D95bfe37d82C8E736b974F477b\", value = 10000000) <0x>\n    [E] [249] Unknown contract 0x1eFB3f88Bc88f03FD1804A5C53b7141bbEf5dED8.0x24a084df\n========================================================================\n\n  (<usdc interface at 0xFF970A61A04b1cA14834A43f5dE4533eBDDB5CC8>.sendValue(address,uint256) -> ['bool'])\n\n   <Unknown contract 0x1efb3f88bc88f03fd1804a5c53b7141bbef5ded8>\n\n  (<usdc interface at 0xFF970A61A04b1cA14834A43f5dE4533eBDDB5CC8>.sendValue(address,uint256) -> ['bool'])",
     "output_type": "error",
     "traceback": [
      "\u001b[31m---------------------------------------------------------------------------\u001b[39m",
      "\u001b[31mBoaError\u001b[39m                                  Traceback (most recent call last)",
      "    \u001b[31m[... skipping hidden 1 frame]\u001b[39m\n",
      "\u001b[36mCell\u001b[39m\u001b[36m \u001b[39m\u001b[32mIn[3]\u001b[39m\u001b[32m, line 5\u001b[39m\n\u001b[32m      2\u001b[39m \u001b[38;5;66;03m# from moccasin import get_config\u001b[39;00m\n\u001b[32m      3\u001b[39m \n\u001b[32m      4\u001b[39m \u001b[38;5;66;03m# active_config = get_config()\u001b[39;00m\n\u001b[32m----> \u001b[39m\u001b[32m5\u001b[39m usdc, weth, a_usdc, a_weth = \u001b[43msetup_script\u001b[49m\u001b[43m(\u001b[49m\u001b[43m)\u001b[49m\n",
      "\u001b[36mFile \u001b[39m\u001b[32m/workspaces/aether_rebalance_sc/script/_setup_script.py:57\u001b[39m, in \u001b[36msetup_script\u001b[39m\u001b[34m()\u001b[39m\n\u001b[32m     56\u001b[39m     _add_eth_balance()\n\u001b[32m---> \u001b[39m\u001b[32m57\u001b[39m     \u001b[43m_add_token_balance\u001b[49m\u001b[43m(\u001b[49m\u001b[43musdc\u001b[49m\u001b[43m,\u001b[49m\u001b[43m \u001b[49m\u001b[43mweth\u001b[49m\u001b[43m,\u001b[49m\u001b[43m \u001b[49m\u001b[43mactive_network\u001b[49m\u001b[43m)\u001b[49m\n\u001b[32m     59\u001b[39m \u001b[38;5;28mprint\u001b[39m(\u001b[33m\"\u001b[39m\u001b[33mchecking starting balances...\u001b[39m\u001b[33m\"\u001b[39m)\n",
      "\u001b[36mFile \u001b[39m\u001b[32m/workspaces/aether_rebalance_sc/script/_setup_script.py:32\u001b[39m, in \u001b[36m_add_token_balance\u001b[39m\u001b[34m(usdc, weth, active_network)\u001b[39m\n\u001b[32m     31\u001b[39m \u001b[38;5;28;01mwith\u001b[39;00m boa.env.prank(usdc_whale):\n\u001b[32m---> \u001b[39m\u001b[32m32\u001b[39m     \u001b[43musdc\u001b[49m\u001b[43m.\u001b[49m\u001b[43msendValue\u001b[49m\u001b[43m(\u001b[49m\u001b[43mboa\u001b[49m\u001b[43m.\u001b[49m\u001b[43menv\u001b[49m\u001b[43m.\u001b[49m\u001b[43meoa\u001b[49m\u001b[43m,\u001b[49m\u001b[43m \u001b[49m\u001b[43mSTARTING_USDC_BALANCE\u001b[49m\u001b[43m)\u001b[49m\n\u001b[32m     33\u001b[39m     \u001b[38;5;28mprint\u001b[39m(\u001b[33mf\u001b[39m\u001b[33m\"\u001b[39m\u001b[33mTransferred \u001b[39m\u001b[38;5;132;01m{\u001b[39;00mSTARTING_USDC_BALANCE\u001b[38;5;132;01m}\u001b[39;00m\u001b[33m USDC from whale \u001b[39m\u001b[38;5;132;01m{\u001b[39;00musdc_whale\u001b[38;5;132;01m}\u001b[39;00m\u001b[33m to \u001b[39m\u001b[38;5;132;01m{\u001b[39;00mmy_address\u001b[38;5;132;01m}\u001b[39;00m\u001b[33m\"\u001b[39m)\n",
      "\u001b[36mFile \u001b[39m\u001b[32m/workspaces/aether_rebalance_sc/.venv/lib/python3.12/site-packages/boa/contracts/abi/abi_contract.py:139\u001b[39m, in \u001b[36mABIFunction.__call__\u001b[39m\u001b[34m(self, value, gas, sender, simulate, *args, **kwargs)\u001b[39m\n\u001b[32m    128\u001b[39m computation = \u001b[38;5;28mself\u001b[39m.contract.env.execute_code(\n\u001b[32m    129\u001b[39m     to_address=\u001b[38;5;28mself\u001b[39m.contract.address,\n\u001b[32m    130\u001b[39m     sender=sender,\n\u001b[32m   (...)\u001b[39m\u001b[32m    136\u001b[39m     contract=\u001b[38;5;28mself\u001b[39m.contract,\n\u001b[32m    137\u001b[39m )\n\u001b[32m--> \u001b[39m\u001b[32m139\u001b[39m val = \u001b[38;5;28;43mself\u001b[39;49m\u001b[43m.\u001b[49m\u001b[43mcontract\u001b[49m\u001b[43m.\u001b[49m\u001b[43mmarshal_to_python\u001b[49m\u001b[43m(\u001b[49m\u001b[43mcomputation\u001b[49m\u001b[43m,\u001b[49m\u001b[43m \u001b[49m\u001b[38;5;28;43mself\u001b[39;49m\u001b[43m.\u001b[49m\u001b[43mreturn_type\u001b[49m\u001b[43m)\u001b[49m\n\u001b[32m    141\u001b[39m \u001b[38;5;66;03m# this property should be guaranteed by abi_decode inside marshal_to_python,\u001b[39;00m\n\u001b[32m    142\u001b[39m \u001b[38;5;66;03m# assert it again just for clarity\u001b[39;00m\n\u001b[32m    143\u001b[39m \u001b[38;5;66;03m# note that val should be a tuple.\u001b[39;00m\n",
      "\u001b[36mFile \u001b[39m\u001b[32m/workspaces/aether_rebalance_sc/.venv/lib/python3.12/site-packages/boa/contracts/abi/abi_contract.py:329\u001b[39m, in \u001b[36mABIContract.marshal_to_python\u001b[39m\u001b[34m(self, computation, abi_type)\u001b[39m\n\u001b[32m    328\u001b[39m \u001b[38;5;28;01mif\u001b[39;00m computation.is_error:\n\u001b[32m--> \u001b[39m\u001b[32m329\u001b[39m     \u001b[38;5;28;01mreturn\u001b[39;00m \u001b[38;5;28;43mself\u001b[39;49m\u001b[43m.\u001b[49m\u001b[43mhandle_error\u001b[49m\u001b[43m(\u001b[49m\u001b[43mcomputation\u001b[49m\u001b[43m)\u001b[49m\n\u001b[32m    331\u001b[39m schema = _format_abi_type(abi_type)\n",
      "\u001b[36mFile \u001b[39m\u001b[32m/workspaces/aether_rebalance_sc/.venv/lib/python3.12/site-packages/boa/contracts/base_evm_contract.py:52\u001b[39m, in \u001b[36m_BaseEVMContract.handle_error\u001b[39m\u001b[34m(self, computation)\u001b[39m\n\u001b[32m     49\u001b[39m \u001b[38;5;28;01mexcept\u001b[39;00m BoaError \u001b[38;5;28;01mas\u001b[39;00m b:\n\u001b[32m     50\u001b[39m     \u001b[38;5;66;03m# modify the error so the traceback starts in userland.\u001b[39;00m\n\u001b[32m     51\u001b[39m     \u001b[38;5;66;03m# inspired by answers in https://stackoverflow.com/q/1603940/\u001b[39;00m\n\u001b[32m---> \u001b[39m\u001b[32m52\u001b[39m     \u001b[38;5;28;01mraise\u001b[39;00m strip_internal_frames(b) \u001b[38;5;28;01mfrom\u001b[39;00m\u001b[38;5;250m \u001b[39m\u001b[34;01mb\u001b[39;00m\n",
      "\u001b[36mFile \u001b[39m\u001b[32m/workspaces/aether_rebalance_sc/script/_setup_script.py:32\u001b[39m, in \u001b[36m_add_token_balance\u001b[39m\u001b[34m(usdc, weth, active_network)\u001b[39m\n\u001b[32m     31\u001b[39m \u001b[38;5;28;01mwith\u001b[39;00m boa.env.prank(usdc_whale):\n\u001b[32m---> \u001b[39m\u001b[32m32\u001b[39m     \u001b[43musdc\u001b[49m\u001b[43m.\u001b[49m\u001b[43msendValue\u001b[49m\u001b[43m(\u001b[49m\u001b[43mboa\u001b[49m\u001b[43m.\u001b[49m\u001b[43menv\u001b[49m\u001b[43m.\u001b[49m\u001b[43meoa\u001b[49m\u001b[43m,\u001b[49m\u001b[43m \u001b[49m\u001b[43mSTARTING_USDC_BALANCE\u001b[49m\u001b[43m)\u001b[49m\n\u001b[32m     33\u001b[39m     \u001b[38;5;28mprint\u001b[39m(\u001b[33mf\u001b[39m\u001b[33m\"\u001b[39m\u001b[33mTransferred \u001b[39m\u001b[38;5;132;01m{\u001b[39;00mSTARTING_USDC_BALANCE\u001b[38;5;132;01m}\u001b[39;00m\u001b[33m USDC from whale \u001b[39m\u001b[38;5;132;01m{\u001b[39;00musdc_whale\u001b[38;5;132;01m}\u001b[39;00m\u001b[33m to \u001b[39m\u001b[38;5;132;01m{\u001b[39;00mmy_address\u001b[38;5;132;01m}\u001b[39;00m\u001b[33m\"\u001b[39m)\n",
      "\u001b[31mBoaError\u001b[39m: \n========================================================================\n[E] [7493] usdc.sendValue(to = \"0x1eED63EfBA5f81D95bfe37d82C8E736b974F477b\", value = 10000000) <0x>\n    [E] [249] Unknown contract 0x1eFB3f88Bc88f03FD1804A5C53b7141bbEf5dED8.0x24a084df\n========================================================================\n\n  (<usdc interface at 0xFF970A61A04b1cA14834A43f5dE4533eBDDB5CC8>.sendValue(address,uint256) -> ['bool'])\n\n   <Unknown contract 0x1efb3f88bc88f03fd1804a5c53b7141bbef5ded8>\n\n  (<usdc interface at 0xFF970A61A04b1cA14834A43f5dE4533eBDDB5CC8>.sendValue(address,uint256) -> ['bool'])",
      "\nThe above exception was the direct cause of the following exception:\n",
      "\u001b[31mBoaError\u001b[39m                                  Traceback (most recent call last)",
      "    \u001b[31m[... skipping hidden 1 frame]\u001b[39m\n",
      "\u001b[36mCell\u001b[39m\u001b[36m \u001b[39m\u001b[32mIn[3]\u001b[39m\u001b[32m, line 5\u001b[39m\n\u001b[32m      2\u001b[39m \u001b[38;5;66;03m# from moccasin import get_config\u001b[39;00m\n\u001b[32m      3\u001b[39m \n\u001b[32m      4\u001b[39m \u001b[38;5;66;03m# active_config = get_config()\u001b[39;00m\n\u001b[32m----> \u001b[39m\u001b[32m5\u001b[39m usdc, weth, a_usdc, a_weth = \u001b[43msetup_script\u001b[49m\u001b[43m(\u001b[49m\u001b[43m)\u001b[49m\n",
      "\u001b[36mFile \u001b[39m\u001b[32m/workspaces/aether_rebalance_sc/script/_setup_script.py:57\u001b[39m, in \u001b[36msetup_script\u001b[39m\u001b[34m()\u001b[39m\n\u001b[32m     56\u001b[39m     _add_eth_balance()\n\u001b[32m---> \u001b[39m\u001b[32m57\u001b[39m     \u001b[43m_add_token_balance\u001b[49m\u001b[43m(\u001b[49m\u001b[43musdc\u001b[49m\u001b[43m,\u001b[49m\u001b[43m \u001b[49m\u001b[43mweth\u001b[49m\u001b[43m,\u001b[49m\u001b[43m \u001b[49m\u001b[43mactive_network\u001b[49m\u001b[43m)\u001b[49m\n\u001b[32m     59\u001b[39m \u001b[38;5;28mprint\u001b[39m(\u001b[33m\"\u001b[39m\u001b[33mchecking starting balances...\u001b[39m\u001b[33m\"\u001b[39m)\n",
      "\u001b[36mFile \u001b[39m\u001b[32m/workspaces/aether_rebalance_sc/script/_setup_script.py:32\u001b[39m, in \u001b[36m_add_token_balance\u001b[39m\u001b[34m(usdc, weth, active_network)\u001b[39m\n\u001b[32m     31\u001b[39m \u001b[38;5;28;01mwith\u001b[39;00m boa.env.prank(usdc_whale):\n\u001b[32m---> \u001b[39m\u001b[32m32\u001b[39m     \u001b[43musdc\u001b[49m\u001b[43m.\u001b[49m\u001b[43msendValue\u001b[49m\u001b[43m(\u001b[49m\u001b[43mboa\u001b[49m\u001b[43m.\u001b[49m\u001b[43menv\u001b[49m\u001b[43m.\u001b[49m\u001b[43meoa\u001b[49m\u001b[43m,\u001b[49m\u001b[43m \u001b[49m\u001b[43mSTARTING_USDC_BALANCE\u001b[49m\u001b[43m)\u001b[49m\n\u001b[32m     33\u001b[39m     \u001b[38;5;28mprint\u001b[39m(\u001b[33mf\u001b[39m\u001b[33m\"\u001b[39m\u001b[33mTransferred \u001b[39m\u001b[38;5;132;01m{\u001b[39;00mSTARTING_USDC_BALANCE\u001b[38;5;132;01m}\u001b[39;00m\u001b[33m USDC from whale \u001b[39m\u001b[38;5;132;01m{\u001b[39;00musdc_whale\u001b[38;5;132;01m}\u001b[39;00m\u001b[33m to \u001b[39m\u001b[38;5;132;01m{\u001b[39;00mmy_address\u001b[38;5;132;01m}\u001b[39;00m\u001b[33m\"\u001b[39m)\n",
      "\u001b[36mFile \u001b[39m\u001b[32m/workspaces/aether_rebalance_sc/.venv/lib/python3.12/site-packages/boa/contracts/abi/abi_contract.py:139\u001b[39m, in \u001b[36mABIFunction.__call__\u001b[39m\u001b[34m(self, value, gas, sender, simulate, *args, **kwargs)\u001b[39m\n\u001b[32m    128\u001b[39m computation = \u001b[38;5;28mself\u001b[39m.contract.env.execute_code(\n\u001b[32m    129\u001b[39m     to_address=\u001b[38;5;28mself\u001b[39m.contract.address,\n\u001b[32m    130\u001b[39m     sender=sender,\n\u001b[32m   (...)\u001b[39m\u001b[32m    136\u001b[39m     contract=\u001b[38;5;28mself\u001b[39m.contract,\n\u001b[32m    137\u001b[39m )\n\u001b[32m--> \u001b[39m\u001b[32m139\u001b[39m val = \u001b[38;5;28;43mself\u001b[39;49m\u001b[43m.\u001b[49m\u001b[43mcontract\u001b[49m\u001b[43m.\u001b[49m\u001b[43mmarshal_to_python\u001b[49m\u001b[43m(\u001b[49m\u001b[43mcomputation\u001b[49m\u001b[43m,\u001b[49m\u001b[43m \u001b[49m\u001b[38;5;28;43mself\u001b[39;49m\u001b[43m.\u001b[49m\u001b[43mreturn_type\u001b[49m\u001b[43m)\u001b[49m\n\u001b[32m    141\u001b[39m \u001b[38;5;66;03m# this property should be guaranteed by abi_decode inside marshal_to_python,\u001b[39;00m\n\u001b[32m    142\u001b[39m \u001b[38;5;66;03m# assert it again just for clarity\u001b[39;00m\n\u001b[32m    143\u001b[39m \u001b[38;5;66;03m# note that val should be a tuple.\u001b[39;00m\n",
      "\u001b[36mFile \u001b[39m\u001b[32m/workspaces/aether_rebalance_sc/.venv/lib/python3.12/site-packages/boa/contracts/abi/abi_contract.py:329\u001b[39m, in \u001b[36mABIContract.marshal_to_python\u001b[39m\u001b[34m(self, computation, abi_type)\u001b[39m\n\u001b[32m    328\u001b[39m \u001b[38;5;28;01mif\u001b[39;00m computation.is_error:\n\u001b[32m--> \u001b[39m\u001b[32m329\u001b[39m     \u001b[38;5;28;01mreturn\u001b[39;00m \u001b[38;5;28;43mself\u001b[39;49m\u001b[43m.\u001b[49m\u001b[43mhandle_error\u001b[49m\u001b[43m(\u001b[49m\u001b[43mcomputation\u001b[49m\u001b[43m)\u001b[49m\n\u001b[32m    331\u001b[39m schema = _format_abi_type(abi_type)\n",
      "\u001b[36mFile \u001b[39m\u001b[32m/workspaces/aether_rebalance_sc/.venv/lib/python3.12/site-packages/boa/contracts/base_evm_contract.py:52\u001b[39m, in \u001b[36m_BaseEVMContract.handle_error\u001b[39m\u001b[34m(self, computation)\u001b[39m\n\u001b[32m     49\u001b[39m \u001b[38;5;28;01mexcept\u001b[39;00m BoaError \u001b[38;5;28;01mas\u001b[39;00m b:\n\u001b[32m     50\u001b[39m     \u001b[38;5;66;03m# modify the error so the traceback starts in userland.\u001b[39;00m\n\u001b[32m     51\u001b[39m     \u001b[38;5;66;03m# inspired by answers in https://stackoverflow.com/q/1603940/\u001b[39;00m\n\u001b[32m---> \u001b[39m\u001b[32m52\u001b[39m     \u001b[38;5;28;01mraise\u001b[39;00m strip_internal_frames(b) \u001b[38;5;28;01mfrom\u001b[39;00m\u001b[38;5;250m \u001b[39m\u001b[34;01mb\u001b[39;00m\n",
      "\u001b[36mFile \u001b[39m\u001b[32m/workspaces/aether_rebalance_sc/script/_setup_script.py:32\u001b[39m, in \u001b[36m_add_token_balance\u001b[39m\u001b[34m(usdc, weth, active_network)\u001b[39m\n\u001b[32m     31\u001b[39m \u001b[38;5;28;01mwith\u001b[39;00m boa.env.prank(usdc_whale):\n\u001b[32m---> \u001b[39m\u001b[32m32\u001b[39m     \u001b[43musdc\u001b[49m\u001b[43m.\u001b[49m\u001b[43msendValue\u001b[49m\u001b[43m(\u001b[49m\u001b[43mboa\u001b[49m\u001b[43m.\u001b[49m\u001b[43menv\u001b[49m\u001b[43m.\u001b[49m\u001b[43meoa\u001b[49m\u001b[43m,\u001b[49m\u001b[43m \u001b[49m\u001b[43mSTARTING_USDC_BALANCE\u001b[49m\u001b[43m)\u001b[49m\n\u001b[32m     33\u001b[39m     \u001b[38;5;28mprint\u001b[39m(\u001b[33mf\u001b[39m\u001b[33m\"\u001b[39m\u001b[33mTransferred \u001b[39m\u001b[38;5;132;01m{\u001b[39;00mSTARTING_USDC_BALANCE\u001b[38;5;132;01m}\u001b[39;00m\u001b[33m USDC from whale \u001b[39m\u001b[38;5;132;01m{\u001b[39;00musdc_whale\u001b[38;5;132;01m}\u001b[39;00m\u001b[33m to \u001b[39m\u001b[38;5;132;01m{\u001b[39;00mmy_address\u001b[38;5;132;01m}\u001b[39;00m\u001b[33m\"\u001b[39m)\n",
      "\u001b[31mBoaError\u001b[39m: \n========================================================================\n[E] [7493] usdc.sendValue(to = \"0x1eED63EfBA5f81D95bfe37d82C8E736b974F477b\", value = 10000000) <0x>\n    [E] [249] Unknown contract 0x1eFB3f88Bc88f03FD1804A5C53b7141bbEf5dED8.0x24a084df\n========================================================================\n\n  (<usdc interface at 0xFF970A61A04b1cA14834A43f5dE4533eBDDB5CC8>.sendValue(address,uint256) -> ['bool'])\n\n   <Unknown contract 0x1efb3f88bc88f03fd1804a5c53b7141bbef5ded8>\n\n  (<usdc interface at 0xFF970A61A04b1cA14834A43f5dE4533eBDDB5CC8>.sendValue(address,uint256) -> ['bool'])",
      "\nThe above exception was the direct cause of the following exception:\n",
      "\u001b[31mBoaError\u001b[39m                                  Traceback (most recent call last)",
      "\u001b[36mCell\u001b[39m\u001b[36m \u001b[39m\u001b[32mIn[3]\u001b[39m\u001b[32m, line 5\u001b[39m\n\u001b[32m      1\u001b[39m \u001b[38;5;28;01mfrom\u001b[39;00m\u001b[38;5;250m \u001b[39m\u001b[34;01mscript\u001b[39;00m\u001b[34;01m.\u001b[39;00m\u001b[34;01m_setup_script\u001b[39;00m\u001b[38;5;250m \u001b[39m\u001b[38;5;28;01mimport\u001b[39;00m _add_eth_balance, _add_token_balance, setup_script\n\u001b[32m      2\u001b[39m \u001b[38;5;66;03m# from moccasin import get_config\u001b[39;00m\n\u001b[32m      3\u001b[39m \n\u001b[32m      4\u001b[39m \u001b[38;5;66;03m# active_config = get_config()\u001b[39;00m\n\u001b[32m----> \u001b[39m\u001b[32m5\u001b[39m usdc, weth, a_usdc, a_weth = \u001b[43msetup_script\u001b[49m\u001b[43m(\u001b[49m\u001b[43m)\u001b[49m\n",
      "\u001b[36mFile \u001b[39m\u001b[32m/workspaces/aether_rebalance_sc/script/_setup_script.py:57\u001b[39m, in \u001b[36msetup_script\u001b[39m\u001b[34m()\u001b[39m\n\u001b[32m     55\u001b[39m     \u001b[38;5;28mprint\u001b[39m(\u001b[33m\"\u001b[39m\u001b[33mSetting up local network with initial balances...\u001b[39m\u001b[33m\"\u001b[39m)\n\u001b[32m     56\u001b[39m     _add_eth_balance()\n\u001b[32m---> \u001b[39m\u001b[32m57\u001b[39m     \u001b[43m_add_token_balance\u001b[49m\u001b[43m(\u001b[49m\u001b[43musdc\u001b[49m\u001b[43m,\u001b[49m\u001b[43m \u001b[49m\u001b[43mweth\u001b[49m\u001b[43m,\u001b[49m\u001b[43m \u001b[49m\u001b[43mactive_network\u001b[49m\u001b[43m)\u001b[49m\n\u001b[32m     59\u001b[39m \u001b[38;5;28mprint\u001b[39m(\u001b[33m\"\u001b[39m\u001b[33mchecking starting balances...\u001b[39m\u001b[33m\"\u001b[39m)\n\u001b[32m     60\u001b[39m starting_usdc_balance = usdc.balanceOf(boa.env.eoa)\n",
      "\u001b[36mFile \u001b[39m\u001b[32m/workspaces/aether_rebalance_sc/script/_setup_script.py:32\u001b[39m, in \u001b[36m_add_token_balance\u001b[39m\u001b[34m(usdc, weth, active_network)\u001b[39m\n\u001b[32m     30\u001b[39m \u001b[38;5;66;03m# Use prank to impersonate the whale\u001b[39;00m\n\u001b[32m     31\u001b[39m \u001b[38;5;28;01mwith\u001b[39;00m boa.env.prank(usdc_whale):\n\u001b[32m---> \u001b[39m\u001b[32m32\u001b[39m     \u001b[43musdc\u001b[49m\u001b[43m.\u001b[49m\u001b[43msendValue\u001b[49m\u001b[43m(\u001b[49m\u001b[43mboa\u001b[49m\u001b[43m.\u001b[49m\u001b[43menv\u001b[49m\u001b[43m.\u001b[49m\u001b[43meoa\u001b[49m\u001b[43m,\u001b[49m\u001b[43m \u001b[49m\u001b[43mSTARTING_USDC_BALANCE\u001b[49m\u001b[43m)\u001b[49m\n\u001b[32m     33\u001b[39m     \u001b[38;5;28mprint\u001b[39m(\u001b[33mf\u001b[39m\u001b[33m\"\u001b[39m\u001b[33mTransferred \u001b[39m\u001b[38;5;132;01m{\u001b[39;00mSTARTING_USDC_BALANCE\u001b[38;5;132;01m}\u001b[39;00m\u001b[33m USDC from whale \u001b[39m\u001b[38;5;132;01m{\u001b[39;00musdc_whale\u001b[38;5;132;01m}\u001b[39;00m\u001b[33m to \u001b[39m\u001b[38;5;132;01m{\u001b[39;00mmy_address\u001b[38;5;132;01m}\u001b[39;00m\u001b[33m\"\u001b[39m)\n\u001b[32m     34\u001b[39m     \u001b[38;5;28mprint\u001b[39m(\u001b[33mf\u001b[39m\u001b[33m\"\u001b[39m\u001b[33mUSDC balance after transfer: \u001b[39m\u001b[38;5;132;01m{\u001b[39;00musdc.balanceOf(my_address)\u001b[38;5;250m \u001b[39m/\u001b[38;5;250m \u001b[39m\u001b[32m1e6\u001b[39m\u001b[38;5;132;01m}\u001b[39;00m\u001b[33m USDC\u001b[39m\u001b[33m\"\u001b[39m)\n",
      "\u001b[36mFile \u001b[39m\u001b[32m/workspaces/aether_rebalance_sc/.venv/lib/python3.12/site-packages/boa/contracts/abi/abi_contract.py:139\u001b[39m, in \u001b[36mABIFunction.__call__\u001b[39m\u001b[34m(self, value, gas, sender, simulate, *args, **kwargs)\u001b[39m\n\u001b[32m    126\u001b[39m     \u001b[38;5;28;01mraise\u001b[39;00m \u001b[38;5;167;01mException\u001b[39;00m(\u001b[33mf\u001b[39m\u001b[33m\"\u001b[39m\u001b[33mCannot call \u001b[39m\u001b[38;5;132;01m{\u001b[39;00m\u001b[38;5;28mself\u001b[39m\u001b[38;5;132;01m}\u001b[39;00m\u001b[33m without deploying contract.\u001b[39m\u001b[33m\"\u001b[39m)\n\u001b[32m    128\u001b[39m computation = \u001b[38;5;28mself\u001b[39m.contract.env.execute_code(\n\u001b[32m    129\u001b[39m     to_address=\u001b[38;5;28mself\u001b[39m.contract.address,\n\u001b[32m    130\u001b[39m     sender=sender,\n\u001b[32m   (...)\u001b[39m\u001b[32m    136\u001b[39m     contract=\u001b[38;5;28mself\u001b[39m.contract,\n\u001b[32m    137\u001b[39m )\n\u001b[32m--> \u001b[39m\u001b[32m139\u001b[39m val = \u001b[38;5;28;43mself\u001b[39;49m\u001b[43m.\u001b[49m\u001b[43mcontract\u001b[49m\u001b[43m.\u001b[49m\u001b[43mmarshal_to_python\u001b[49m\u001b[43m(\u001b[49m\u001b[43mcomputation\u001b[49m\u001b[43m,\u001b[49m\u001b[43m \u001b[49m\u001b[38;5;28;43mself\u001b[39;49m\u001b[43m.\u001b[49m\u001b[43mreturn_type\u001b[49m\u001b[43m)\u001b[49m\n\u001b[32m    141\u001b[39m \u001b[38;5;66;03m# this property should be guaranteed by abi_decode inside marshal_to_python,\u001b[39;00m\n\u001b[32m    142\u001b[39m \u001b[38;5;66;03m# assert it again just for clarity\u001b[39;00m\n\u001b[32m    143\u001b[39m \u001b[38;5;66;03m# note that val should be a tuple.\u001b[39;00m\n\u001b[32m    144\u001b[39m \u001b[38;5;28;01massert\u001b[39;00m \u001b[38;5;28mlen\u001b[39m(\u001b[38;5;28mself\u001b[39m._abi[\u001b[33m\"\u001b[39m\u001b[33moutputs\u001b[39m\u001b[33m\"\u001b[39m]) == \u001b[38;5;28mlen\u001b[39m(val)\n",
      "\u001b[36mFile \u001b[39m\u001b[32m/workspaces/aether_rebalance_sc/.venv/lib/python3.12/site-packages/boa/contracts/abi/abi_contract.py:329\u001b[39m, in \u001b[36mABIContract.marshal_to_python\u001b[39m\u001b[34m(self, computation, abi_type)\u001b[39m\n\u001b[32m    327\u001b[39m \u001b[38;5;28mself\u001b[39m._computation = computation\n\u001b[32m    328\u001b[39m \u001b[38;5;28;01mif\u001b[39;00m computation.is_error:\n\u001b[32m--> \u001b[39m\u001b[32m329\u001b[39m     \u001b[38;5;28;01mreturn\u001b[39;00m \u001b[38;5;28;43mself\u001b[39;49m\u001b[43m.\u001b[49m\u001b[43mhandle_error\u001b[49m\u001b[43m(\u001b[49m\u001b[43mcomputation\u001b[49m\u001b[43m)\u001b[49m\n\u001b[32m    331\u001b[39m schema = _format_abi_type(abi_type)\n\u001b[32m    332\u001b[39m \u001b[38;5;28;01mtry\u001b[39;00m:\n",
      "\u001b[36mFile \u001b[39m\u001b[32m/workspaces/aether_rebalance_sc/.venv/lib/python3.12/site-packages/boa/contracts/base_evm_contract.py:52\u001b[39m, in \u001b[36m_BaseEVMContract.handle_error\u001b[39m\u001b[34m(self, computation)\u001b[39m\n\u001b[32m     48\u001b[39m     \u001b[38;5;28;01mraise\u001b[39;00m BoaError.create(computation, \u001b[38;5;28mself\u001b[39m)\n\u001b[32m     49\u001b[39m \u001b[38;5;28;01mexcept\u001b[39;00m BoaError \u001b[38;5;28;01mas\u001b[39;00m b:\n\u001b[32m     50\u001b[39m     \u001b[38;5;66;03m# modify the error so the traceback starts in userland.\u001b[39;00m\n\u001b[32m     51\u001b[39m     \u001b[38;5;66;03m# inspired by answers in https://stackoverflow.com/q/1603940/\u001b[39;00m\n\u001b[32m---> \u001b[39m\u001b[32m52\u001b[39m     \u001b[38;5;28;01mraise\u001b[39;00m strip_internal_frames(b) \u001b[38;5;28;01mfrom\u001b[39;00m\u001b[38;5;250m \u001b[39m\u001b[34;01mb\u001b[39;00m\n",
      "\u001b[36mFile \u001b[39m\u001b[32m/workspaces/aether_rebalance_sc/script/_setup_script.py:32\u001b[39m, in \u001b[36m_add_token_balance\u001b[39m\u001b[34m(usdc, weth, active_network)\u001b[39m\n\u001b[32m     30\u001b[39m \u001b[38;5;66;03m# Use prank to impersonate the whale\u001b[39;00m\n\u001b[32m     31\u001b[39m \u001b[38;5;28;01mwith\u001b[39;00m boa.env.prank(usdc_whale):\n\u001b[32m---> \u001b[39m\u001b[32m32\u001b[39m     \u001b[43musdc\u001b[49m\u001b[43m.\u001b[49m\u001b[43msendValue\u001b[49m\u001b[43m(\u001b[49m\u001b[43mboa\u001b[49m\u001b[43m.\u001b[49m\u001b[43menv\u001b[49m\u001b[43m.\u001b[49m\u001b[43meoa\u001b[49m\u001b[43m,\u001b[49m\u001b[43m \u001b[49m\u001b[43mSTARTING_USDC_BALANCE\u001b[49m\u001b[43m)\u001b[49m\n\u001b[32m     33\u001b[39m     \u001b[38;5;28mprint\u001b[39m(\u001b[33mf\u001b[39m\u001b[33m\"\u001b[39m\u001b[33mTransferred \u001b[39m\u001b[38;5;132;01m{\u001b[39;00mSTARTING_USDC_BALANCE\u001b[38;5;132;01m}\u001b[39;00m\u001b[33m USDC from whale \u001b[39m\u001b[38;5;132;01m{\u001b[39;00musdc_whale\u001b[38;5;132;01m}\u001b[39;00m\u001b[33m to \u001b[39m\u001b[38;5;132;01m{\u001b[39;00mmy_address\u001b[38;5;132;01m}\u001b[39;00m\u001b[33m\"\u001b[39m)\n\u001b[32m     34\u001b[39m     \u001b[38;5;28mprint\u001b[39m(\u001b[33mf\u001b[39m\u001b[33m\"\u001b[39m\u001b[33mUSDC balance after transfer: \u001b[39m\u001b[38;5;132;01m{\u001b[39;00musdc.balanceOf(my_address)\u001b[38;5;250m \u001b[39m/\u001b[38;5;250m \u001b[39m\u001b[32m1e6\u001b[39m\u001b[38;5;132;01m}\u001b[39;00m\u001b[33m USDC\u001b[39m\u001b[33m\"\u001b[39m)\n",
      "\u001b[31mBoaError\u001b[39m: \n========================================================================\n[E] [7493] usdc.sendValue(to = \"0x1eED63EfBA5f81D95bfe37d82C8E736b974F477b\", value = 10000000) <0x>\n    [E] [249] Unknown contract 0x1eFB3f88Bc88f03FD1804A5C53b7141bbEf5dED8.0x24a084df\n========================================================================\n\n  (<usdc interface at 0xFF970A61A04b1cA14834A43f5dE4533eBDDB5CC8>.sendValue(address,uint256) -> ['bool'])\n\n   <Unknown contract 0x1efb3f88bc88f03fd1804a5c53b7141bbef5ded8>\n\n  (<usdc interface at 0xFF970A61A04b1cA14834A43f5dE4533eBDDB5CC8>.sendValue(address,uint256) -> ['bool'])"
     ]
    }
   ],
   "source": [
    "from script._setup_script import _add_eth_balance, _add_token_balance, setup_script\n",
    "# from moccasin import get_config\n",
    "\n",
    "# active_config = get_config()\n",
    "usdc, weth, a_usdc, a_weth = setup_script()\n",
    "    \n"
   ]
  },
  {
   "cell_type": "markdown",
   "metadata": {},
   "source": [
    "# Deposit to AAVE\n",
    "\n",
    "After we deposited to our wallet, we want to deposit the money to Aave, we use supply function here"
   ]
  },
  {
   "cell_type": "code",
   "execution_count": null,
   "metadata": {},
   "outputs": [],
   "source": [
    "from script.deposit import run_deposit_script\n",
    "\n",
    "run_deposit_script(usdc, weth)"
   ]
  },
  {
   "cell_type": "markdown",
   "metadata": {},
   "source": [
    "After we deposit to Aave, we want to rebalance the balance\n",
    "\n",
    "# Rebalance"
   ]
  },
  {
   "cell_type": "code",
   "execution_count": null,
   "metadata": {},
   "outputs": [],
   "source": [
    "from script.rebalance import rebalance\n",
    "\n",
    "rebalance(usdc, weth, a_usdc, a_weth)\n",
    "\n",
    "starting_usdc_balance = usdc.balanceOf(boa.env.eoa)\n",
    "starting_weth_balance = weth.balanceOf(boa.env.eoa)\n",
    "\n",
    "print(f\"Wallet after deposit USDC balance: {starting_usdc_balance / 1e6} USDC\")\n",
    "print(f\"Wallet after deposit WETH balance: {starting_weth_balance / 1e18} WETH\")"
   ]
  },
  {
   "cell_type": "markdown",
   "metadata": {},
   "source": [
    "Now, we will withdraw the token and deposit again"
   ]
  },
  {
   "cell_type": "code",
   "execution_count": null,
   "metadata": {},
   "outputs": [],
   "source": [
    "import boa\n",
    "\n",
    "starting_usdc_balance = usdc.balanceOf(boa.env.eoa)\n",
    "starting_weth_balance = weth.balanceOf(boa.env.eoa)\n",
    "\n",
    "print(f\"Wallet after deposit USDC balance: {starting_usdc_balance / 1e6} USDC\")\n",
    "print(f\"Wallet after deposit WETH balance: {starting_weth_balance / 1e18} WETH\")\n",
    "\n",
    "run_deposit_script(usdc, weth)\n",
    "\n",
    "a_usdc_balance = a_usdc.balanceOf(boa.env.eoa)\n",
    "a_weth_balance = a_weth.balanceOf(boa.env.eoa)\n",
    "\n",
    "print(f\"Current Aave USDC balance: {a_usdc_balance / 1e6} USDC\")\n",
    "print(f\"Current Aave WETH balance: {a_weth_balance / 1e18} WETH\")\n",
    "\n",
    "# print(f\"Wallet after rebalance USDC balance: {starting_usdc_balance / 1e6} USDC\")\n",
    "# print(f\"Wallet after rebalance WETH balance: {starting_weth_balance / 1e18} WETH\")"
   ]
  },
  {
   "cell_type": "markdown",
   "metadata": {},
   "source": [
    "Let's check the price and total value"
   ]
  },
  {
   "cell_type": "code",
   "execution_count": null,
   "metadata": {},
   "outputs": [],
   "source": [
    "from script.rebalance import get_price\n",
    "\n",
    "a_usdc_balance_normalized = a_usdc_balance / 1e6\n",
    "a_weth_balance_normalized = a_weth_balance / 1e18\n",
    "\n",
    "usdc_value = a_usdc_balance_normalized * get_price(\"usdc_usd_price_feed\")\n",
    "weth_value = a_weth_balance_normalized * get_price(\"eth_usd_price_feed\")\n",
    "\n",
    "print(f\"Current aUSDC value: ${usdc_value:.2f}\")\n",
    "print(f\"Current aWETH value: ${weth_value:.2f}\")\n",
    "\n",
    "total_value = usdc_value + weth_value\n",
    "print(f\"Current percent allocation of aUSDC: {usdc_value / total_value * 100:.2f}%\")\n",
    "print(f\"Current percent allocation of aWETH: {weth_value / total_value * 100:.2f}%\")"
   ]
  }
 ],
 "metadata": {
  "kernelspec": {
   "display_name": ".venv",
   "language": "python",
   "name": "python3"
  },
  "language_info": {
   "codemirror_mode": {
    "name": "ipython",
    "version": 3
   },
   "file_extension": ".py",
   "mimetype": "text/x-python",
   "name": "python",
   "nbconvert_exporter": "python",
   "pygments_lexer": "ipython3",
   "version": "3.12.1"
  }
 },
 "nbformat": 4,
 "nbformat_minor": 2
}
